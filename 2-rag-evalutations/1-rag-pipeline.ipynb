{
 "cells": [
  {
   "cell_type": "code",
   "execution_count": 1,
   "metadata": {},
   "outputs": [
    {
     "name": "stderr",
     "output_type": "stream",
     "text": [
      "c:\\Users\\Hassan\\Documents\\Projects\\LLMs\\RAG-Projects\\.venv\\Lib\\site-packages\\tqdm\\auto.py:21: TqdmWarning: IProgress not found. Please update jupyter and ipywidgets. See https://ipywidgets.readthedocs.io/en/stable/user_install.html\n",
      "  from .autonotebook import tqdm as notebook_tqdm\n"
     ]
    }
   ],
   "source": [
    "import os\n",
    "os.environ['USER_AGENT'] = 'chrome'\n",
    "\n",
    "import re\n",
    "import json\n",
    "import pandas as pd\n",
    "\n",
    "from langchain_community.document_loaders import WebBaseLoader\n",
    "from langchain.text_splitter import RecursiveCharacterTextSplitter\n",
    "from langchain_chroma import Chroma\n",
    "from langchain_community.embeddings import OllamaEmbeddings\n",
    "from langchain_ollama import ChatOllama\n",
    "from langchain.prompts import PromptTemplate\n",
    "from langchain_core.output_parsers import StrOutputParser\n",
    "\n",
    "from sklearn.metrics.pairwise import cosine_similarity\n",
    "import numpy as np\n",
    "\n",
    "from ragas import evaluate\n"
   ]
  },
  {
   "cell_type": "code",
   "execution_count": 2,
   "metadata": {},
   "outputs": [],
   "source": [
    "from datetime import datetime\n",
    "timestamp = datetime.now().strftime(\"%d-%m-%Y_%H-%M-%S\")"
   ]
  },
  {
   "cell_type": "code",
   "execution_count": 3,
   "metadata": {},
   "outputs": [],
   "source": [
    "from datasets import Dataset"
   ]
  },
  {
   "cell_type": "code",
   "execution_count": null,
   "metadata": {},
   "outputs": [],
   "source": [
    "# List of URLs to load documents from\n",
    "urls = [\n",
    "    \"https://lilianweng.github.io/posts/2023-06-23-agent/\",\n",
    "    \"https://lilianweng.github.io/posts/2023-03-15-prompt-engineering/\",\n",
    "    \"https://lilianweng.github.io/posts/2023-10-25-adv-attack-llm/\",\n",
    "]\n"
   ]
  },
  {
   "cell_type": "code",
   "execution_count": 5,
   "metadata": {},
   "outputs": [
    {
     "name": "stderr",
     "output_type": "stream",
     "text": [
      "C:\\Users\\Hassan\\AppData\\Local\\Temp\\ipykernel_21768\\2745269685.py:5: LangChainDeprecationWarning: The class `OllamaEmbeddings` was deprecated in LangChain 0.3.1 and will be removed in 1.0.0. An updated version of the class exists in the :class:`~langchain-ollama package and should be used instead. To use it run `pip install -U :class:`~langchain-ollama` and import as `from :class:`~langchain_ollama import OllamaEmbeddings``.\n",
      "  ollama_embeddings = OllamaEmbeddings(model=\"all-minilm\", show_progress=True)\n"
     ]
    },
    {
     "name": "stdout",
     "output_type": "stream",
     "text": [
      "ChromaDB already populated with 30 documents, skipping embedding generation.\n"
     ]
    }
   ],
   "source": [
    "#Step 1: Initialize ChromaDB and check for existing embeddings\n",
    "persist_directory = \"./chroma_db\"\n",
    "\n",
    "# Initialize the Ollama Embeddings model\n",
    "ollama_embeddings = OllamaEmbeddings(model=\"all-minilm\", show_progress=True)\n",
    "\n",
    "# Set up ChromaDB with LangChain ChromaVectorStore\n",
    "chroma_store = Chroma(\n",
    "    persist_directory=persist_directory,\n",
    "    embedding_function=ollama_embeddings\n",
    ")\n",
    "\n",
    "# Step 2: Check if there are already embeddings stored in ChromaDB\n",
    "existing_documents = chroma_store._collection.count()\n",
    "\n",
    "if existing_documents == 0:\n",
    "    print(\"ChromaDB is empty, loading documents and generating embeddings...\")\n",
    "\n",
    "    # Load documents from the URLs\n",
    "    docs = [WebBaseLoader(url).load() for url in urls]\n",
    "    docs_list = [item for sublist in docs for item in sublist]\n",
    "\n",
    "    # Initialize a text splitter with specified chunk size and overlap\n",
    "    text_splitter = RecursiveCharacterTextSplitter.from_tiktoken_encoder(\n",
    "        chunk_size=350, chunk_overlap=75\n",
    "    )\n",
    "\n",
    "    # Split the documents into chunks\n",
    "    doc_splits = text_splitter.split_documents(docs_list)\n",
    "\n",
    "    print(f\"Number of document chunks: {len(doc_splits)}\")\n",
    "\n",
    "    # Add documents and embeddings to ChromaDB collection\n",
    "    chroma_store.add_documents(doc_splits)\n",
    "else:\n",
    "    print(f\"ChromaDB already populated with {existing_documents} documents, skipping embedding generation.\")"
   ]
  },
  {
   "cell_type": "code",
   "execution_count": null,
   "metadata": {},
   "outputs": [],
   "source": [
    "K=4\n",
    "retriever = chroma_store.as_retriever(k=K)"
   ]
  },
  {
   "cell_type": "code",
   "execution_count": null,
   "metadata": {},
   "outputs": [],
   "source": [
    "prompt = PromptTemplate(\n",
    "    template=\"\"\"You are an assistant for question-answering tasks.\n",
    "    Use the following documents to answer the question.\n",
    "    Keep your response strictly limited to the information provided\n",
    "    in the documents. Do not add any additional or related information\n",
    "    to the question outside of what is in the documents. Limit your \n",
    "    response to 3 to 6 lines maximum.\n",
    "\n",
    "    Question: {question}\n",
    "    Documents: {documents}\n",
    "    Answer:\n",
    "    \"\"\",\n",
    "    input_variables=[\"question\", \"documents\"],\n",
    ")"
   ]
  },
  {
   "cell_type": "code",
   "execution_count": null,
   "metadata": {},
   "outputs": [],
   "source": [
    "# Use llama3.2:3b for response generation\n",
    "llm = ChatOllama(\n",
    "    model=\"llama3.2:3b\",\n",
    "    temperature=0,\n",
    "    seed=42\n",
    ")\n",
    "\n",
    "# Create a chain combining the prompt template and LLM\n",
    "rag_chain = prompt | llm | StrOutputParser()\n",
    "\n",
    "# Define the RAG application class\n",
    "class RAGApplication:\n",
    "    def __init__(self, retriever, rag_chain):\n",
    "        self.retriever = retriever\n",
    "        self.rag_chain = rag_chain\n",
    "    def run(self, question):\n",
    "        # Retrieve relevant documents\n",
    "        documents = self.retriever.invoke(question)\n",
    "        # Extract content from retrieved documents\n",
    "        doc_texts = \"\\\\n\".join([doc.page_content for doc in documents])\n",
    "        # Get the answer from the language model\n",
    "        answer = self.rag_chain.invoke({\"question\": question, \"documents\": doc_texts})\n",
    "        return answer"
   ]
  },
  {
   "cell_type": "code",
   "execution_count": 9,
   "metadata": {},
   "outputs": [
    {
     "name": "stderr",
     "output_type": "stream",
     "text": [
      "OllamaEmbeddings: 100%|██████████| 1/1 [00:03<00:00,  3.07s/it]\n"
     ]
    },
    {
     "name": "stdout",
     "output_type": "stream",
     "text": [
      "Question: What is tree of thoughts?\n",
      "Answer: The \"Chain of Thought\" is a method to repeatedly prompt the model to ask following-up questions to construct the thought process iteratively, as described in Self-Ask (Press et al. 2022).\n"
     ]
    }
   ],
   "source": [
    "# Initialize the RAG application\n",
    "rag_application = RAGApplication(retriever, rag_chain)\n",
    "# Example usage\n",
    "question = \"What is tree of thoughts?\"\n",
    "answer = rag_application.run(question)\n",
    "print(\"Question:\", question)\n",
    "print(\"Answer:\", answer)"
   ]
  },
  {
   "cell_type": "code",
   "execution_count": 10,
   "metadata": {},
   "outputs": [],
   "source": [
    "# Load your test set (assuming 'test_set_prompt_eng.csv' is the file uploaded)\n",
    "test_set = pd.read_csv('../data/test_set_prompt_eng.csv')"
   ]
  },
  {
   "cell_type": "code",
   "execution_count": null,
   "metadata": {},
   "outputs": [],
   "source": [
    "class RAGApplication:\n",
    "    def __init__(self, retriever, rag_chain):\n",
    "        self.retriever = retriever\n",
    "        self.rag_chain = rag_chain\n",
    "        self.retrieved_context = None\n",
    "\n",
    "    def retrieve(self, question):\n",
    "        # Retrieve relevant documents and extract content\n",
    "        documents = self.retriever.invoke(question)\n",
    "        doc_texts = \"\\\\n\".join([doc.page_content for doc in documents])\n",
    "        self.retrieved_context = doc_texts\n",
    "        return\n",
    "    \n",
    "    def run(self, question):\n",
    "        self.retrieve(question)\n",
    "        answer = self.rag_chain.invoke({\"question\": question, \"documents\": self.retrieved_context})\n",
    "        return answer"
   ]
  },
  {
   "cell_type": "code",
   "execution_count": 14,
   "metadata": {},
   "outputs": [],
   "source": [
    "rag_application=RAGApplication(retriever, rag_chain)"
   ]
  },
  {
   "cell_type": "code",
   "execution_count": 16,
   "metadata": {},
   "outputs": [
    {
     "data": {
      "text/html": [
       "<div>\n",
       "<style scoped>\n",
       "    .dataframe tbody tr th:only-of-type {\n",
       "        vertical-align: middle;\n",
       "    }\n",
       "\n",
       "    .dataframe tbody tr th {\n",
       "        vertical-align: top;\n",
       "    }\n",
       "\n",
       "    .dataframe thead th {\n",
       "        text-align: right;\n",
       "    }\n",
       "</style>\n",
       "<table border=\"1\" class=\"dataframe\">\n",
       "  <thead>\n",
       "    <tr style=\"text-align: right;\">\n",
       "      <th></th>\n",
       "      <th>Query</th>\n",
       "      <th>Answer</th>\n",
       "    </tr>\n",
       "  </thead>\n",
       "  <tbody>\n",
       "    <tr>\n",
       "      <th>0</th>\n",
       "      <td>What is prompt engineering?</td>\n",
       "      <td>Prompt Engineering, also known as In-Context P...</td>\n",
       "    </tr>\n",
       "    <tr>\n",
       "      <th>1</th>\n",
       "      <td>What are the basic approaches for prompting a ...</td>\n",
       "      <td>Zero-shot and few-shot learning are two of the...</td>\n",
       "    </tr>\n",
       "    <tr>\n",
       "      <th>2</th>\n",
       "      <td>What are the issues in few-shot learning that ...</td>\n",
       "      <td>(1) Majority label bias exists if the distribu...</td>\n",
       "    </tr>\n",
       "    <tr>\n",
       "      <th>3</th>\n",
       "      <td>What is Chain-of-Thought (CoT) prompting?</td>\n",
       "      <td>Chain-of-thought (CoT) prompting generates a s...</td>\n",
       "    </tr>\n",
       "    <tr>\n",
       "      <th>4</th>\n",
       "      <td>What are the types of Chain-of-Thought prompts?</td>\n",
       "      <td>Two main types of CoT prompting:\\n\\nFew-shot C...</td>\n",
       "    </tr>\n",
       "  </tbody>\n",
       "</table>\n",
       "</div>"
      ],
      "text/plain": [
       "                                               Query  \\\n",
       "0                        What is prompt engineering?   \n",
       "1  What are the basic approaches for prompting a ...   \n",
       "2  What are the issues in few-shot learning that ...   \n",
       "3          What is Chain-of-Thought (CoT) prompting?   \n",
       "4    What are the types of Chain-of-Thought prompts?   \n",
       "\n",
       "                                              Answer  \n",
       "0  Prompt Engineering, also known as In-Context P...  \n",
       "1  Zero-shot and few-shot learning are two of the...  \n",
       "2  (1) Majority label bias exists if the distribu...  \n",
       "3  Chain-of-thought (CoT) prompting generates a s...  \n",
       "4  Two main types of CoT prompting:\\n\\nFew-shot C...  "
      ]
     },
     "execution_count": 16,
     "metadata": {},
     "output_type": "execute_result"
    }
   ],
   "source": [
    "test_set.head()"
   ]
  },
  {
   "cell_type": "code",
   "execution_count": 17,
   "metadata": {},
   "outputs": [
    {
     "name": "stderr",
     "output_type": "stream",
     "text": [
      "OllamaEmbeddings: 100%|██████████| 1/1 [00:02<00:00,  2.33s/it]\n",
      "OllamaEmbeddings: 100%|██████████| 1/1 [00:02<00:00,  2.32s/it]\n",
      "OllamaEmbeddings: 100%|██████████| 1/1 [00:02<00:00,  2.31s/it]\n",
      "OllamaEmbeddings: 100%|██████████| 1/1 [00:02<00:00,  2.21s/it]\n",
      "OllamaEmbeddings: 100%|██████████| 1/1 [00:02<00:00,  2.08s/it]\n",
      "OllamaEmbeddings: 100%|██████████| 1/1 [00:02<00:00,  2.07s/it]\n",
      "OllamaEmbeddings: 100%|██████████| 1/1 [00:02<00:00,  2.09s/it]\n",
      "OllamaEmbeddings: 100%|██████████| 1/1 [00:02<00:00,  2.11s/it]\n",
      "OllamaEmbeddings: 100%|██████████| 1/1 [00:02<00:00,  2.06s/it]\n",
      "OllamaEmbeddings: 100%|██████████| 1/1 [00:02<00:00,  2.16s/it]\n",
      "OllamaEmbeddings: 100%|██████████| 1/1 [00:02<00:00,  2.06s/it]\n",
      "OllamaEmbeddings: 100%|██████████| 1/1 [00:02<00:00,  2.11s/it]\n",
      "OllamaEmbeddings: 100%|██████████| 1/1 [00:02<00:00,  2.09s/it]\n",
      "OllamaEmbeddings: 100%|██████████| 1/1 [00:02<00:00,  2.14s/it]\n",
      "OllamaEmbeddings: 100%|██████████| 1/1 [00:02<00:00,  2.13s/it]\n",
      "OllamaEmbeddings: 100%|██████████| 1/1 [00:02<00:00,  2.06s/it]\n",
      "OllamaEmbeddings: 100%|██████████| 1/1 [00:02<00:00,  2.08s/it]\n"
     ]
    }
   ],
   "source": [
    "answers = []\n",
    "contexts = []\n",
    "for query in test_set['Query']:\n",
    "  answers.append(rag_application.run(query))\n",
    "  contexts.append(rag_application.retrieved_context)"
   ]
  },
  {
   "cell_type": "code",
   "execution_count": null,
   "metadata": {},
   "outputs": [],
   "source": [
    "data = {\n",
    "    \"question\": test_set['Query'],\n",
    "    \"answer\": answers,\n",
    "    \"retrieved_context\": contexts,\n",
    "    \"reference\": test_set['Answer']\n",
    "}\n",
    "  \n",
    "dataset = pd.DataFrame(data)"
   ]
  },
  {
   "cell_type": "code",
   "execution_count": 19,
   "metadata": {},
   "outputs": [
    {
     "data": {
      "text/html": [
       "<div>\n",
       "<style scoped>\n",
       "    .dataframe tbody tr th:only-of-type {\n",
       "        vertical-align: middle;\n",
       "    }\n",
       "\n",
       "    .dataframe tbody tr th {\n",
       "        vertical-align: top;\n",
       "    }\n",
       "\n",
       "    .dataframe thead th {\n",
       "        text-align: right;\n",
       "    }\n",
       "</style>\n",
       "<table border=\"1\" class=\"dataframe\">\n",
       "  <thead>\n",
       "    <tr style=\"text-align: right;\">\n",
       "      <th></th>\n",
       "      <th>question</th>\n",
       "      <th>answer</th>\n",
       "      <th>retrieved_context</th>\n",
       "      <th>reference</th>\n",
       "    </tr>\n",
       "  </thead>\n",
       "  <tbody>\n",
       "    <tr>\n",
       "      <th>0</th>\n",
       "      <td>What is prompt engineering?</td>\n",
       "      <td>Prompt engineering is the process of designing...</td>\n",
       "      <td>OpenAI Cookbook has many in-depth examples for...</td>\n",
       "      <td>Prompt Engineering, also known as In-Context P...</td>\n",
       "    </tr>\n",
       "    <tr>\n",
       "      <th>1</th>\n",
       "      <td>What are the basic approaches for prompting a ...</td>\n",
       "      <td>The basic approaches for prompting a language ...</td>\n",
       "      <td>OpenAI Cookbook has many in-depth examples for...</td>\n",
       "      <td>Zero-shot and few-shot learning are two of the...</td>\n",
       "    </tr>\n",
       "    <tr>\n",
       "      <th>2</th>\n",
       "      <td>What are the issues in few-shot learning that ...</td>\n",
       "      <td>The issues in few-shot learning that lead to p...</td>\n",
       "      <td>Zero-Shot#\\nZero-shot learning is to simply fe...</td>\n",
       "      <td>(1) Majority label bias exists if the distribu...</td>\n",
       "    </tr>\n",
       "    <tr>\n",
       "      <th>3</th>\n",
       "      <td>What is Chain-of-Thought (CoT) prompting?</td>\n",
       "      <td>Chain-of-Thought (CoT) prompting is a techniqu...</td>\n",
       "      <td>Definition: Determine which category the quest...</td>\n",
       "      <td>Chain-of-thought (CoT) prompting generates a s...</td>\n",
       "    </tr>\n",
       "    <tr>\n",
       "      <th>4</th>\n",
       "      <td>What are the types of Chain-of-Thought prompts?</td>\n",
       "      <td>The question asks for the category \"Quantity\" ...</td>\n",
       "      <td>References#\\n[1] Zhao et al. “Calibrate Before...</td>\n",
       "      <td>Two main types of CoT prompting:\\n\\nFew-shot C...</td>\n",
       "    </tr>\n",
       "  </tbody>\n",
       "</table>\n",
       "</div>"
      ],
      "text/plain": [
       "                                            question  \\\n",
       "0                        What is prompt engineering?   \n",
       "1  What are the basic approaches for prompting a ...   \n",
       "2  What are the issues in few-shot learning that ...   \n",
       "3          What is Chain-of-Thought (CoT) prompting?   \n",
       "4    What are the types of Chain-of-Thought prompts?   \n",
       "\n",
       "                                              answer  \\\n",
       "0  Prompt engineering is the process of designing...   \n",
       "1  The basic approaches for prompting a language ...   \n",
       "2  The issues in few-shot learning that lead to p...   \n",
       "3  Chain-of-Thought (CoT) prompting is a techniqu...   \n",
       "4  The question asks for the category \"Quantity\" ...   \n",
       "\n",
       "                                   retrieved_context  \\\n",
       "0  OpenAI Cookbook has many in-depth examples for...   \n",
       "1  OpenAI Cookbook has many in-depth examples for...   \n",
       "2  Zero-Shot#\\nZero-shot learning is to simply fe...   \n",
       "3  Definition: Determine which category the quest...   \n",
       "4  References#\\n[1] Zhao et al. “Calibrate Before...   \n",
       "\n",
       "                                           reference  \n",
       "0  Prompt Engineering, also known as In-Context P...  \n",
       "1  Zero-shot and few-shot learning are two of the...  \n",
       "2  (1) Majority label bias exists if the distribu...  \n",
       "3  Chain-of-thought (CoT) prompting generates a s...  \n",
       "4  Two main types of CoT prompting:\\n\\nFew-shot C...  "
      ]
     },
     "execution_count": 19,
     "metadata": {},
     "output_type": "execute_result"
    }
   ],
   "source": [
    "dataset.head()"
   ]
  },
  {
   "cell_type": "code",
   "execution_count": 20,
   "metadata": {},
   "outputs": [],
   "source": [
    "dataset.to_csv(f'eval_set_{timestamp}.csv')"
   ]
  },
  {
   "cell_type": "code",
   "execution_count": 21,
   "metadata": {},
   "outputs": [
    {
     "data": {
      "text/html": [
       "<div>\n",
       "<style scoped>\n",
       "    .dataframe tbody tr th:only-of-type {\n",
       "        vertical-align: middle;\n",
       "    }\n",
       "\n",
       "    .dataframe tbody tr th {\n",
       "        vertical-align: top;\n",
       "    }\n",
       "\n",
       "    .dataframe thead th {\n",
       "        text-align: right;\n",
       "    }\n",
       "</style>\n",
       "<table border=\"1\" class=\"dataframe\">\n",
       "  <thead>\n",
       "    <tr style=\"text-align: right;\">\n",
       "      <th></th>\n",
       "      <th>question</th>\n",
       "      <th>answer</th>\n",
       "      <th>retrieved_context</th>\n",
       "      <th>reference</th>\n",
       "    </tr>\n",
       "  </thead>\n",
       "  <tbody>\n",
       "    <tr>\n",
       "      <th>0</th>\n",
       "      <td>What is prompt engineering?</td>\n",
       "      <td>Prompt engineering is the process of designing...</td>\n",
       "      <td>OpenAI Cookbook has many in-depth examples for...</td>\n",
       "      <td>Prompt Engineering, also known as In-Context P...</td>\n",
       "    </tr>\n",
       "    <tr>\n",
       "      <th>1</th>\n",
       "      <td>What are the basic approaches for prompting a ...</td>\n",
       "      <td>The basic approaches for prompting a language ...</td>\n",
       "      <td>OpenAI Cookbook has many in-depth examples for...</td>\n",
       "      <td>Zero-shot and few-shot learning are two of the...</td>\n",
       "    </tr>\n",
       "    <tr>\n",
       "      <th>2</th>\n",
       "      <td>What are the issues in few-shot learning that ...</td>\n",
       "      <td>The issues in few-shot learning that lead to p...</td>\n",
       "      <td>Zero-Shot#\\nZero-shot learning is to simply fe...</td>\n",
       "      <td>(1) Majority label bias exists if the distribu...</td>\n",
       "    </tr>\n",
       "    <tr>\n",
       "      <th>3</th>\n",
       "      <td>What is Chain-of-Thought (CoT) prompting?</td>\n",
       "      <td>Chain-of-Thought (CoT) prompting is a techniqu...</td>\n",
       "      <td>Definition: Determine which category the quest...</td>\n",
       "      <td>Chain-of-thought (CoT) prompting generates a s...</td>\n",
       "    </tr>\n",
       "    <tr>\n",
       "      <th>4</th>\n",
       "      <td>What are the types of Chain-of-Thought prompts?</td>\n",
       "      <td>The question asks for the category \"Quantity\" ...</td>\n",
       "      <td>References#\\n[1] Zhao et al. “Calibrate Before...</td>\n",
       "      <td>Two main types of CoT prompting:\\n\\nFew-shot C...</td>\n",
       "    </tr>\n",
       "  </tbody>\n",
       "</table>\n",
       "</div>"
      ],
      "text/plain": [
       "                                            question  \\\n",
       "0                        What is prompt engineering?   \n",
       "1  What are the basic approaches for prompting a ...   \n",
       "2  What are the issues in few-shot learning that ...   \n",
       "3          What is Chain-of-Thought (CoT) prompting?   \n",
       "4    What are the types of Chain-of-Thought prompts?   \n",
       "\n",
       "                                              answer  \\\n",
       "0  Prompt engineering is the process of designing...   \n",
       "1  The basic approaches for prompting a language ...   \n",
       "2  The issues in few-shot learning that lead to p...   \n",
       "3  Chain-of-Thought (CoT) prompting is a techniqu...   \n",
       "4  The question asks for the category \"Quantity\" ...   \n",
       "\n",
       "                                   retrieved_context  \\\n",
       "0  OpenAI Cookbook has many in-depth examples for...   \n",
       "1  OpenAI Cookbook has many in-depth examples for...   \n",
       "2  Zero-Shot#\\nZero-shot learning is to simply fe...   \n",
       "3  Definition: Determine which category the quest...   \n",
       "4  References#\\n[1] Zhao et al. “Calibrate Before...   \n",
       "\n",
       "                                           reference  \n",
       "0  Prompt Engineering, also known as In-Context P...  \n",
       "1  Zero-shot and few-shot learning are two of the...  \n",
       "2  (1) Majority label bias exists if the distribu...  \n",
       "3  Chain-of-thought (CoT) prompting generates a s...  \n",
       "4  Two main types of CoT prompting:\\n\\nFew-shot C...  "
      ]
     },
     "execution_count": 21,
     "metadata": {},
     "output_type": "execute_result"
    }
   ],
   "source": [
    "dataset.head()"
   ]
  },
  {
   "cell_type": "code",
   "execution_count": null,
   "metadata": {},
   "outputs": [],
   "source": []
  }
 ],
 "metadata": {
  "kernelspec": {
   "display_name": ".venv",
   "language": "python",
   "name": "python3"
  },
  "language_info": {
   "codemirror_mode": {
    "name": "ipython",
    "version": 3
   },
   "file_extension": ".py",
   "mimetype": "text/x-python",
   "name": "python",
   "nbconvert_exporter": "python",
   "pygments_lexer": "ipython3",
   "version": "3.11.7"
  }
 },
 "nbformat": 4,
 "nbformat_minor": 2
}
