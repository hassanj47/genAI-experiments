{
 "cells": [
  {
   "cell_type": "code",
   "execution_count": 36,
   "metadata": {},
   "outputs": [],
   "source": [
    "import numpy as np\n",
    "import pandas as pd\n",
    "import matplotlib.pyplot as plt"
   ]
  },
  {
   "cell_type": "code",
   "execution_count": 37,
   "metadata": {},
   "outputs": [],
   "source": [
    "e1 = pd.read_csv('RAG_evaluation_03-11-2024_12-39-28.csv')"
   ]
  },
  {
   "cell_type": "code",
   "execution_count": 38,
   "metadata": {},
   "outputs": [],
   "source": [
    "e2 = pd.read_csv('RAG_evaluation_03-11-2024_21-20-42.csv')"
   ]
  },
  {
   "cell_type": "code",
   "execution_count": 39,
   "metadata": {},
   "outputs": [],
   "source": [
    "e3 = pd.read_csv('RAG_evaluation_05-11-2024_10-02-31.csv')"
   ]
  },
  {
   "cell_type": "code",
   "execution_count": 44,
   "metadata": {},
   "outputs": [],
   "source": [
    "mean_scores = pd.DataFrame()\n",
    "\n",
    "for i,df in enumerate([e1,e2,e3]):\n",
    "    scores = df[['relevance_score','recall_score','faithfulness_score','response_quality_score']].copy()\n",
    "    scores['experiment_id'] = i\n",
    "    mean_scores = pd.concat([mean_scores,pd.DataFrame(scores.mean()).transpose()])\n",
    "\n",
    "# mean_scores.columns = ['mean_'+col for col in mean_scores.columns]\n",
    "# mean_scores\n"
   ]
  },
  {
   "cell_type": "code",
   "execution_count": 45,
   "metadata": {},
   "outputs": [
    {
     "name": "stdout",
     "output_type": "stream",
     "text": [
      "0\n",
      "1\n",
      "2\n"
     ]
    }
   ],
   "source": [
    "for i,df in enumerate([e1,e2,e3]):\n",
    "    print(i)"
   ]
  },
  {
   "cell_type": "code",
   "execution_count": 46,
   "metadata": {},
   "outputs": [
    {
     "data": {
      "text/html": [
       "<div>\n",
       "<style scoped>\n",
       "    .dataframe tbody tr th:only-of-type {\n",
       "        vertical-align: middle;\n",
       "    }\n",
       "\n",
       "    .dataframe tbody tr th {\n",
       "        vertical-align: top;\n",
       "    }\n",
       "\n",
       "    .dataframe thead th {\n",
       "        text-align: right;\n",
       "    }\n",
       "</style>\n",
       "<table border=\"1\" class=\"dataframe\">\n",
       "  <thead>\n",
       "    <tr style=\"text-align: right;\">\n",
       "      <th></th>\n",
       "      <th>relevance_score</th>\n",
       "      <th>recall_score</th>\n",
       "      <th>faithfulness_score</th>\n",
       "      <th>response_quality_score</th>\n",
       "      <th>experiment_id</th>\n",
       "    </tr>\n",
       "  </thead>\n",
       "  <tbody>\n",
       "    <tr>\n",
       "      <th>0</th>\n",
       "      <td>0.625882</td>\n",
       "      <td>0.5</td>\n",
       "      <td>0.469412</td>\n",
       "      <td>6.470588</td>\n",
       "      <td>0.0</td>\n",
       "    </tr>\n",
       "    <tr>\n",
       "      <th>0</th>\n",
       "      <td>0.625882</td>\n",
       "      <td>0.5</td>\n",
       "      <td>0.550588</td>\n",
       "      <td>6.823529</td>\n",
       "      <td>1.0</td>\n",
       "    </tr>\n",
       "    <tr>\n",
       "      <th>0</th>\n",
       "      <td>0.815882</td>\n",
       "      <td>0.5</td>\n",
       "      <td>0.500588</td>\n",
       "      <td>7.058824</td>\n",
       "      <td>2.0</td>\n",
       "    </tr>\n",
       "  </tbody>\n",
       "</table>\n",
       "</div>"
      ],
      "text/plain": [
       "   relevance_score  recall_score  faithfulness_score  response_quality_score  \\\n",
       "0         0.625882           0.5            0.469412                6.470588   \n",
       "0         0.625882           0.5            0.550588                6.823529   \n",
       "0         0.815882           0.5            0.500588                7.058824   \n",
       "\n",
       "   experiment_id  \n",
       "0            0.0  \n",
       "0            1.0  \n",
       "0            2.0  "
      ]
     },
     "execution_count": 46,
     "metadata": {},
     "output_type": "execute_result"
    }
   ],
   "source": [
    "mean_scores"
   ]
  },
  {
   "cell_type": "code",
   "execution_count": null,
   "metadata": {},
   "outputs": [],
   "source": []
  }
 ],
 "metadata": {
  "kernelspec": {
   "display_name": ".venv",
   "language": "python",
   "name": "python3"
  },
  "language_info": {
   "codemirror_mode": {
    "name": "ipython",
    "version": 3
   },
   "file_extension": ".py",
   "mimetype": "text/x-python",
   "name": "python",
   "nbconvert_exporter": "python",
   "pygments_lexer": "ipython3",
   "version": "3.11.7"
  }
 },
 "nbformat": 4,
 "nbformat_minor": 2
}
