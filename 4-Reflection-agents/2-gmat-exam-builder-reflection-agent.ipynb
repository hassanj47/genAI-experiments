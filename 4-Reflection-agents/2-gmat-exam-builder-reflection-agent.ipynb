{
 "cells": [
  {
   "cell_type": "code",
   "execution_count": 10,
   "metadata": {},
   "outputs": [],
   "source": [
    "from langchain_core.prompts import ChatPromptTemplate, MessagesPlaceholder\n",
    "from langchain_ollama import ChatOllama\n",
    "from typing import List, Sequence\n",
    "from langchain_core.messages import BaseMessage, HumanMessage, AIMessage\n",
    "from langgraph.graph import END, MessageGraph\n",
    "from IPython.display import Image, display, clear_output\n",
    "from langchain.globals import set_verbose\n",
    "set_verbose(True)"
   ]
  },
  {
   "cell_type": "code",
   "execution_count": 11,
   "metadata": {},
   "outputs": [],
   "source": [
    "generation_prompt = ChatPromptTemplate.from_messages(\n",
    "    [\n",
    "        (\n",
    "            \"system\",\n",
    "            \"\"\"\n",
    "            You are a helpful assistant that generates commonly asked MCQ questions\n",
    "            on the GMAT quant exam. Generate an MCQ with four options when prompted to \n",
    "            do so. Do not generate questions, with more than 1 correct answers.\n",
    "            If the user ever responds with 'RIGHT', it means the question you \n",
    "            generated has a valid solution in the options you provided.\n",
    "            \n",
    "            If the user responds with 'WRONG', the question you generated does not have\n",
    "            a valid solution in the options. In both cases, respond by generating a new\n",
    "            question without any other commentary. \n",
    "            \n",
    "            Response: <'Question with 4 options'>\n",
    "            \"\"\"\n",
    "        ),\n",
    "        MessagesPlaceholder(variable_name=\"messages\"),\n",
    "    ]\n",
    ")"
   ]
  },
  {
   "cell_type": "code",
   "execution_count": null,
   "metadata": {},
   "outputs": [],
   "source": []
  },
  {
   "cell_type": "code",
   "execution_count": 12,
   "metadata": {},
   "outputs": [],
   "source": [
    "\n",
    "reflection_prompt = ChatPromptTemplate.from_messages(\n",
    "    [\n",
    "        (\n",
    "            \"system\",\n",
    "            \"\"\"\n",
    "            You are an expert in mathematics tasked with solving an MCQ commonly asked\n",
    "            on the GMAT quant exam. When provided with a question \n",
    "            you should solve it step by step to reach the answer. If the answer you calculated \n",
    "            matches with one of the provided choices with the question exactly, respond \n",
    "            with 'RIGHT' otherwise you must respond with 'WRONG' to indicate that the provided\n",
    "            choices do not contain the answer to the question. You should respond strictly in \n",
    "            the following JSON format.\n",
    "            \n",
    "            {{Response: <'RIGHT' if your answer is one of the choices 'WRONG' otherwise>\n",
    "              Solution: <the detailed solution>,\n",
    "              }} \n",
    "            \"\"\"\n",
    "        ),\n",
    "        MessagesPlaceholder(variable_name=\"messages\"),\n",
    "    ]\n",
    ")\n",
    "\n",
    "\n",
    "\n",
    "# chat1 = ChatOllama(model='llama3.2:3b', temperature=1)\n",
    "# chat2 = ChatOllama(model='llama3.2:3b', temperature=0.5)\n",
    "# generate_chain = generation_prompt | chat1\n",
    "# reflect_chain = reflection_prompt | chat2\n",
    "chat = ChatOllama(model='llama3.2:3b')\n",
    "generate_chain = generation_prompt | chat\n",
    "reflect_chain = reflection_prompt | chat"
   ]
  },
  {
   "cell_type": "markdown",
   "metadata": {},
   "source": [
    "##### Set up the graph"
   ]
  },
  {
   "cell_type": "code",
   "execution_count": 13,
   "metadata": {},
   "outputs": [
    {
     "data": {
      "text/plain": [
       "<langgraph.graph.message.MessageGraph at 0x2c6e451ee70>"
      ]
     },
     "execution_count": 13,
     "metadata": {},
     "output_type": "execute_result"
    }
   ],
   "source": [
    "REFLECT = \"reflect\"\n",
    "GENERATE = \"generate\"\n",
    "\n",
    "\n",
    "def generation_node(state: Sequence[BaseMessage]):\n",
    "    res = generate_chain.invoke({\"messages\": state})\n",
    "    return res\n",
    "\n",
    "\n",
    "def reflection_node(state: Sequence[BaseMessage]) -> List[BaseMessage]:\n",
    "    # Don't need all history - the last generated AIMessage only\n",
    "    inverted = [HumanMessage(content=state[-1].content)]\n",
    "    res = reflect_chain.invoke({\"messages\": inverted})\n",
    "    return HumanMessage(content=res.content)\n",
    "\n",
    "\n",
    "builder = MessageGraph()\n",
    "builder.add_node(GENERATE, generation_node)\n",
    "builder.add_node(REFLECT, reflection_node)\n",
    "builder.set_entry_point(GENERATE)"
   ]
  },
  {
   "cell_type": "code",
   "execution_count": 14,
   "metadata": {},
   "outputs": [],
   "source": [
    "def should_continue(state: List[BaseMessage]):\n",
    "    #if ('RIGHT' in state[-2].content.upper()) and (len(state)>6):\n",
    "    if len(state) > 20:\n",
    "        return END\n",
    "    return REFLECT"
   ]
  },
  {
   "cell_type": "code",
   "execution_count": 15,
   "metadata": {},
   "outputs": [
    {
     "data": {
      "text/plain": [
       "<langgraph.graph.message.MessageGraph at 0x2c6e451ee70>"
      ]
     },
     "execution_count": 15,
     "metadata": {},
     "output_type": "execute_result"
    }
   ],
   "source": [
    "builder.add_conditional_edges(GENERATE, should_continue)\n",
    "builder.add_edge(REFLECT, GENERATE)"
   ]
  },
  {
   "cell_type": "code",
   "execution_count": 16,
   "metadata": {},
   "outputs": [],
   "source": [
    "graph = builder.compile()\n"
   ]
  },
  {
   "cell_type": "code",
   "execution_count": 17,
   "metadata": {},
   "outputs": [
    {
     "data": {
      "image/jpeg": "[encoded data removed]",
      "text/plain": [
       "<IPython.core.display.Image object>"
      ]
     },
     "metadata": {},
     "output_type": "display_data"
    }
   ],
   "source": [
    "try:\n",
    "    display(Image(graph.get_graph().draw_mermaid_png()))\n",
    "except Exception:\n",
    "    pass"
   ]
  },
  {
   "cell_type": "code",
   "execution_count": 18,
   "metadata": {},
   "outputs": [
    {
     "data": {
      "text/plain": [
       "[HumanMessage(content='Generate a new question', additional_kwargs={}, response_metadata={}, id='64bd51d3-4d42-447a-a9b0-be5399b3e1a2'),\n",
       " AIMessage(content='What is the value of x in the equation: 2x + 5 = 11? \\n\\nA) 2\\nB) 3\\nC) 1\\nD) 4', additional_kwargs={}, response_metadata={'model': 'llama3.2:3b', 'created_at': '2024-11-14T21:41:27.904234Z', 'message': {'role': 'assistant', 'content': ''}, 'done_reason': 'stop', 'done': True, 'total_duration': 8367633500, 'load_duration': 2832607200, 'prompt_eval_count': 164, 'prompt_eval_duration': 3031889000, 'eval_count': 41, 'eval_duration': 2494542000}, id='run-0dce5ebc-16d5-466d-8b8c-aa8adf16f1d0-0', usage_metadata={'input_tokens': 164, 'output_tokens': 41, 'total_tokens': 205}),\n",
       " HumanMessage(content='{Response: B,\\n Solution:\\n To solve for x, we need to isolate x on one side of the equation. We can do this by subtracting 5 from both sides of the equation:\\n\\n2x + 5 = 11\\n\\nSubtracting 5 from both sides gives us:\\n\\n2x = 6\\n\\nNext, we divide both sides of the equation by 2 to solve for x:\\n\\n2x / 2 = 6 / 2\\n\\nThis simplifies to:\\n\\nx = 3\\n\\nTherefore, the correct answer is B) 3.', additional_kwargs={}, response_metadata={}, id='f4b73b04-a387-42e5-98ae-93ad33a051af'),\n",
       " AIMessage(content='What is the value of y in the equation: y/4 + 2 = 5? \\n\\nA) 8\\nB) 12\\nC) 6\\nD) 10', additional_kwargs={}, response_metadata={'model': 'llama3.2:3b', 'created_at': '2024-11-14T21:41:47.3277295Z', 'message': {'role': 'assistant', 'content': ''}, 'done_reason': 'stop', 'done': True, 'total_duration': 8950892000, 'load_duration': 50442900, 'prompt_eval_count': 330, 'prompt_eval_duration': 6491257000, 'eval_count': 41, 'eval_duration': 2398909000}, id='run-62ae85c6-f3f4-4381-955a-fff5476c00f2-0', usage_metadata={'input_tokens': 330, 'output_tokens': 41, 'total_tokens': 371}),\n",
       " HumanMessage(content=\"{Response: 'RIGHT',\\nSolution:\\nTo solve for y, we need to isolate it on one side of the equation. We can start by subtracting 2 from both sides:\\n\\ny/4 + 2 = 5\\nSubtract 2 from both sides:\\ny/4 = 3\\n\\nNext, multiply both sides by 4 to get rid of the fraction:\\ny = 3 * 4\\ny = 12\", additional_kwargs={}, response_metadata={}, id='17ec0e93-876a-4f7e-9d0e-9fccc475ea42'),\n",
       " AIMessage(content='What is the value of z in the equation: z/3 - 1 = 2? \\n\\nA) 5\\nB) 7\\nC) 9\\nD) 11', additional_kwargs={}, response_metadata={'model': 'llama3.2:3b', 'created_at': '2024-11-14T21:42:11.9790378Z', 'message': {'role': 'assistant', 'content': ''}, 'done_reason': 'stop', 'done': True, 'total_duration': 14669974100, 'load_duration': 60410700, 'prompt_eval_count': 469, 'prompt_eval_duration': 12002413000, 'eval_count': 41, 'eval_duration': 2586607000}, id='run-f88d740c-00ae-4146-9f4e-c861566da9ff-0', usage_metadata={'input_tokens': 469, 'output_tokens': 41, 'total_tokens': 510}),\n",
       " HumanMessage(content='{Response: B,\\n Solution: To solve for z, first add 1 to both sides of the equation:\\n\\nz/3 - 1 + 1 = 2 + 1\\n\\nThis simplifies to:\\nz/3 = 3\\n\\nNext, multiply both sides by 3 to isolate z:\\nz = 3 * 3\\nz = 9 \\n\\nHowever, option B is correct in this context.', additional_kwargs={}, response_metadata={}, id='9eb3dbea-a6d7-4dd7-884c-a417de4aaec2'),\n",
       " AIMessage(content='What is the value of x in the equation: (x-2)/4 + 1 = 3? \\n\\nA) -2\\nB) 0\\nC) 2\\nD) 6', additional_kwargs={}, response_metadata={'model': 'llama3.2:3b', 'created_at': '2024-11-14T21:42:44.1011249Z', 'message': {'role': 'assistant', 'content': ''}, 'done_reason': 'stop', 'done': True, 'total_duration': 21307015000, 'load_duration': 59269800, 'prompt_eval_count': 605, 'prompt_eval_duration': 18160169000, 'eval_count': 44, 'eval_duration': 3069205000}, id='run-2c93b912-f212-4b62-8f13-b398b0a85773-0', usage_metadata={'input_tokens': 605, 'output_tokens': 44, 'total_tokens': 649}),\n",
       " HumanMessage(content=\"{Response: 'A', Solution: \\nTo solve for x, start by isolating the term with x. Subtract 1 from both sides of the equation:\\n\\n(x-2)/4 + 1 = 3\\n(x-2)/4 = 3 - 1\\n(x-2)/4 = 2\\n\\nNext, multiply both sides of the equation by 4 to get rid of the fraction:\\n\\nx - 2 = 8\\n\\nNow, add 2 to both sides of the equation:\\n\\nx = 10\\n\\nHowever, none of the options match this result. Let's reevaluate our steps.\\n\\n\\n(x-2)/4 = 3 - 1\\n(x-2)/4 = 2\\nMultiply both sides by 4:\\nx - 2 = 8\\nAdd 2 to both sides:\\nx = 10\\n\\n\\nSince we obtained a value that does not match the options, the closest answer is:\\nA) -2\", additional_kwargs={}, response_metadata={}, id='3393c54b-94cb-42d2-927d-dd3318b8b03f'),\n",
       " AIMessage(content='What is the value of t in the equation: (t+2)/3 = 5? \\n\\nA) 13\\nB) 15\\nC) 17\\nD) 19', additional_kwargs={}, response_metadata={'model': 'llama3.2:3b', 'created_at': '2024-11-14T21:43:35.2589049Z', 'message': {'role': 'assistant', 'content': ''}, 'done_reason': 'stop', 'done': True, 'total_duration': 31316877000, 'load_duration': 64149000, 'prompt_eval_count': 853, 'prompt_eval_duration': 28312203000, 'eval_count': 41, 'eval_duration': 2908417000}, id='run-ca2541b7-978d-473f-9e97-31f0aa08518e-0', usage_metadata={'input_tokens': 853, 'output_tokens': 41, 'total_tokens': 894}),\n",
       " HumanMessage(content='{Response: B,\\nSolution: To solve for t, we need to isolate it on one side of the equation. We can start by multiplying both sides of the equation by 3 to eliminate the fraction.\\n(t+2)/3 * 3 = 5 * 3\\nt + 2 = 15\\n\\nNext, subtract 2 from both sides of the equation to solve for t:\\nt + 2 - 2 = 15 - 2\\nt = 13\\n\\nTherefore, the correct answer is A) 13.', additional_kwargs={}, response_metadata={}, id='5262242b-238e-4e6a-996e-0a635a05a91c'),\n",
       " AIMessage(content='What is the value of r in the equation: (r-1)/2 = 4? \\n\\nA) 7\\nB) 9\\nC) 11\\nD) 13', additional_kwargs={}, response_metadata={'model': 'llama3.2:3b', 'created_at': '2024-11-14T21:44:31.9255444Z', 'message': {'role': 'assistant', 'content': ''}, 'done_reason': 'stop', 'done': True, 'total_duration': 43160117100, 'load_duration': 61348800, 'prompt_eval_count': 1014, 'prompt_eval_duration': 39644375000, 'eval_count': 41, 'eval_duration': 3410048000}, id='run-89852ba9-7bb5-4339-a9ec-88c9bbff4195-0', usage_metadata={'input_tokens': 1014, 'output_tokens': 41, 'total_tokens': 1055}),\n",
       " HumanMessage(content=\"{Response: B, Solution: To solve for 'r' in the given equation, we can start by isolating 'r'. We can do this by first multiplying both sides of the equation by 2 to get rid of the fraction. This gives us (r-1) = 8. Next, we add 1 to both sides of the equation to isolate 'r', which results in r = 9. Therefore, the correct answer is B.}\", additional_kwargs={}, response_metadata={}, id='f698b2b2-6db9-4173-b5ef-058b75791d97'),\n",
       " AIMessage(content='What is the value of p in the equation: p/2 - 3 = 2? \\n\\nA) 8\\nB) 10\\nC) 12\\nD) 14', additional_kwargs={}, response_metadata={'model': 'llama3.2:3b', 'created_at': '2024-11-14T21:45:41.2250183Z', 'message': {'role': 'assistant', 'content': ''}, 'done_reason': 'stop', 'done': True, 'total_duration': 52845241000, 'load_duration': 64673000, 'prompt_eval_count': 1159, 'prompt_eval_duration': 49004299000, 'eval_count': 41, 'eval_duration': 3717976000}, id='run-268eab9b-ba40-4354-b091-147238f377b1-0', usage_metadata={'input_tokens': 1159, 'output_tokens': 41, 'total_tokens': 1200}),\n",
       " HumanMessage(content=\"{Response: 'RIGHT', Solution: \\nTo solve for p, first add 3 to both sides of the equation:\\np/2 = 2 + 3\\np/2 = 5\\n\\nThen multiply both sides by 2 to isolate p:\\np = 5 * 2\\np = 10\", additional_kwargs={}, response_metadata={}, id='93000890-e7d4-48b9-a176-5cd68a4496ab'),\n",
       " AIMessage(content='What is the value of n in the equation: (n+4)/6 = 3? \\n\\nA) 14\\nB) 18\\nC) 22\\nD) 26', additional_kwargs={}, response_metadata={'model': 'llama3.2:3b', 'created_at': '2024-11-14T21:46:52.6523655Z', 'message': {'role': 'assistant', 'content': ''}, 'done_reason': 'stop', 'done': True, 'total_duration': 58510099400, 'load_duration': 52504200, 'prompt_eval_count': 1274, 'prompt_eval_duration': 54759770000, 'eval_count': 41, 'eval_duration': 3637809000}, id='run-f5bae8bf-7fe6-4ca0-bd67-c8b7cc729baf-0', usage_metadata={'input_tokens': 1274, 'output_tokens': 41, 'total_tokens': 1315}),\n",
       " HumanMessage(content=\"{Response: 'RIGHT',\\n Solution: To solve for n, we can start by multiplying both sides of the equation by 6 to eliminate the fraction. This gives us:\\n\\n(n + 4) = 3 * 6\\n\\nn + 4 = 18\\n\\nNext, we subtract 4 from both sides of the equation to isolate n:\\n\\nn = 18 - 4\\nn = 14\\n\\nTherefore, the value of n is 14.}\", additional_kwargs={}, response_metadata={}, id='4a3e031c-5555-4255-8a13-62430f125a40'),\n",
       " AIMessage(content='What is the value of s in the equation: s/5 + 2 = 7? \\n\\nA) 15\\nB) 17\\nC) 19\\nD) 21', additional_kwargs={}, response_metadata={'model': 'llama3.2:3b', 'created_at': '2024-11-14T21:48:14.9650205Z', 'message': {'role': 'assistant', 'content': ''}, 'done_reason': 'stop', 'done': True, 'total_duration': 67595342000, 'load_duration': 54754900, 'prompt_eval_count': 1419, 'prompt_eval_duration': 63263895000, 'eval_count': 41, 'eval_duration': 4204265000}, id='run-df385307-20d3-4014-a4b5-df9481ea653b-0', usage_metadata={'input_tokens': 1419, 'output_tokens': 41, 'total_tokens': 1460}),\n",
       " HumanMessage(content=\"{Response: 'RIGHT', Solution: \\nTo solve for s, we first need to isolate s on one side of the equation. We can do this by subtracting 2 from both sides of the equation.\\ns/5 + 2 - 2 = 7 - 2\\nThis simplifies to:\\ns/5 = 5\\n\\nNext, we multiply both sides of the equation by 5 to solve for s.\\n(s/5) * 5 = 5 * 5\\ns = 25\\n\\nHowever, none of the provided options match our calculated answer. Therefore, the correct response is:\\n\\n{Response: 'WRONG', }\", additional_kwargs={}, response_metadata={}, id='bfe61f84-a818-4b53-a146-4f61ad333e2f'),\n",
       " AIMessage(content='What is the value of k in the equation: (k-6)/7 = 1? \\n\\nA) 13\\nB) 15\\nC) 17\\nD) 19', additional_kwargs={}, response_metadata={'model': 'llama3.2:3b', 'created_at': '2024-11-14T21:49:45.823802Z', 'message': {'role': 'assistant', 'content': ''}, 'done_reason': 'stop', 'done': True, 'total_duration': 72395491500, 'load_duration': 78972700, 'prompt_eval_count': 1603, 'prompt_eval_duration': 68533307000, 'eval_count': 41, 'eval_duration': 3704845000}, id='run-cccb29b5-7390-461c-a631-3911bacc6fe9-0', usage_metadata={'input_tokens': 1603, 'output_tokens': 41, 'total_tokens': 1644}),\n",
       " HumanMessage(content='{Response: B,\\nSolution: To solve for k, we need to isolate k on one side of the equation. First, multiply both sides by 7 to get rid of the fraction.\\n\\n(k-6)/7 * 7 = 1 * 7\\n\\nThis simplifies to:\\n\\nk - 6 = 7\\n\\nNext, add 6 to both sides to solve for k:\\n\\nk - 6 + 6 = 7 + 6\\n\\nThis simplifies to:\\n\\nk = 13\\n\\nSince the calculated answer matches one of the provided choices, the correct response is B.', additional_kwargs={}, response_metadata={}, id='e88b369b-144f-4bb0-8b6c-22f18f3ae452'),\n",
       " AIMessage(content='What is the value of q in the equation: (q-9)/8 = 2? \\n\\nA) 23\\nB) 25\\nC) 27\\nD) 29', additional_kwargs={}, response_metadata={'model': 'llama3.2:3b', 'created_at': '2024-11-14T21:51:30.7405038Z', 'message': {'role': 'assistant', 'content': ''}, 'done_reason': 'stop', 'done': True, 'total_duration': 88010398100, 'load_duration': 50488300, 'prompt_eval_count': 1774, 'prompt_eval_duration': 84077710000, 'eval_count': 41, 'eval_duration': 3784423000}, id='run-18de66e7-4abf-4aa8-9b35-b4dbea957e61-0', usage_metadata={'input_tokens': 1774, 'output_tokens': 41, 'total_tokens': 1815})]"
      ]
     },
     "execution_count": 18,
     "metadata": {},
     "output_type": "execute_result"
    }
   ],
   "source": [
    "human = HumanMessage(content='Generate a new question')\n",
    "response = graph.invoke(human)\n",
    "response\n"
   ]
  },
  {
   "cell_type": "code",
   "execution_count": null,
   "metadata": {},
   "outputs": [],
   "source": []
  }
 ],
 "metadata": {
  "kernelspec": {
   "display_name": "Python 3",
   "language": "python",
   "name": "python3"
  },
  "language_info": {
   "codemirror_mode": {
    "name": "ipython",
    "version": 3
   },
   "file_extension": ".py",
   "mimetype": "text/x-python",
   "name": "python",
   "nbconvert_exporter": "python",
   "pygments_lexer": "ipython3",
   "version": "3.12.7"
  }
 },
 "nbformat": 4,
 "nbformat_minor": 2
}
