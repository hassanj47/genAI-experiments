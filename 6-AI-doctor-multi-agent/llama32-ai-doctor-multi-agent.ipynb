{
 "cells": [
  {
   "cell_type": "code",
   "execution_count": 1,
   "metadata": {},
   "outputs": [],
   "source": [
    "from langgraph.graph import MessagesState\n",
    "from langchain_core.messages import AIMessage, HumanMessage, SystemMessage\n",
    "from langgraph.graph import START, StateGraph\n",
    "from langgraph.prebuilt import tools_condition, ToolNode\n",
    "from IPython.display import Image, display\n",
    "from langchain_community.tools import DuckDuckGoSearchRun, DuckDuckGoSearchResults\n",
    "from langchain_ollama import ChatOllama\n",
    "from langgraph.checkpoint.memory import MemorySaver\n",
    "memory = MemorySaver()\n"
   ]
  },
  {
   "cell_type": "markdown",
   "metadata": {},
   "source": [
    "### Architectural Overview\n",
    "1. Two ReAct Agents - Doctor and Specialist\n",
    "2. Doctor, converses with the patient and elicits symptoms step by step\n",
    "3. Everytime, the patient mentions a new symptom, the doctor adds it to\n",
    "a list, searches for plausible diagnoses and asks relevant follow up questions.\n",
    "4. Once the doctor has reached a definitie conclusion, he passes on the diagnosis\n",
    "to a Specialist agent.\n",
    "5. The specialist cross-checks the diagnosis against the set of symptoms through a \n",
    "reverse search and recommends treatment. "
   ]
  },
  {
   "cell_type": "markdown",
   "metadata": {},
   "source": [
    "#### Specialist Agent - available to doctor as a tool\n",
    "- To cross-check the intitial diagnosis of doctor and recommend treatment plans\n",
    "- Implemented as a separate ReAct Agents"
   ]
  },
  {
   "cell_type": "code",
   "execution_count": 2,
   "metadata": {},
   "outputs": [],
   "source": [
    "specialist_prompt =\"\"\"\n",
    "\n",
    "You are an expert AI doctor. Follow the below guidelines to cross-check the\n",
    "diagnosis of another doctor. Your fellow doctor will provide you with a list \n",
    "of symptoms and his diagnosis.\n",
    "\n",
    "Evaluate the diagnosis critically and identify actions to confirm or reject this.\n",
    "For this, you may search the diagnosed disease to obtain its symptoms and treatment plan. \n",
    "If the symptoms provided by the fellow doctor match the symptoms you obtained through\n",
    "your search. Respond to the fellow doctor that the diagnosis is correct and \n",
    "share the relevant treatment plan, else inform that the diagnosis is incorrect.\n",
    "\n",
    "\"\"\""
   ]
  },
  {
   "cell_type": "code",
   "execution_count": 3,
   "metadata": {},
   "outputs": [],
   "source": [
    "from langchain_core.tools import tool\n",
    "@tool\n",
    "def search_diagnosis(search_query: str) -> str:\n",
    "    \n",
    "    \"\"\" Retrieve docs from web search \"\"\"\n",
    "    search = DuckDuckGoSearchResults(num_results=1)\n",
    "    results = search.invoke(search_query)\n",
    "    print(search_query)\n",
    "    return results"
   ]
  },
  {
   "cell_type": "code",
   "execution_count": null,
   "metadata": {},
   "outputs": [],
   "source": [
    "specialist_tools = [search_diagnosis]\n",
    "llm_specialist = ChatOllama(model='llama3.2:3b', \n",
    "                 temperature=0,\n",
    "                 num_predict=1000)\n",
    "\n",
    "from langchain.agents import AgentExecutor, create_tool_calling_agent\n",
    "from langchain_core.prompts import ChatPromptTemplate\n",
    "\n",
    "prompt = ChatPromptTemplate.from_messages(\n",
    "    [\n",
    "        (\"system\", specialist_prompt),\n",
    "        (\"human\", \"Here are the symptoms: {symptoms} and the diagnosis is: {diagnosis}\"),\n",
    "        (\"placeholder\", \"{agent_scratchpad}\"),\n",
    "    ]\n",
    ")\n",
    "specialist_with_tools = create_tool_calling_agent(llm_specialist, specialist_tools, prompt)\n",
    "specialist_agent = AgentExecutor(agent=specialist_with_tools, tools=specialist_tools)\n"
   ]
  },
  {
   "cell_type": "code",
   "execution_count": 5,
   "metadata": {},
   "outputs": [],
   "source": [
    "# specialist as a tool\n",
    "def call_specialist(symptoms: str, diagnosis: str) -> str:\n",
    "    \"\"\" Inform the specialist with symptoms and the diagnosis \"\"\"\n",
    "    response = specialist_agent.invoke({'symptoms':symptoms,'diagnosis':diagnosis})\n",
    "    return response['output']"
   ]
  },
  {
   "cell_type": "code",
   "execution_count": null,
   "metadata": {},
   "outputs": [],
   "source": [
    "# Testing specialist separately\n",
    "res = call_specialist([\"\"\"Pain or bloating in the belly area\n",
    "Dark urine and pale or clay-colored stools\n",
    "Fatigue\n",
    "Low grade fever\n",
    "Itching\n",
    "Jaundice (yellowing of the skin or eyes)\n",
    "Loss of appetite\n",
    "Nausea and vomiting\n",
    "Weight loss\"\"\"], 'hepatitis')\n",
    "res"
   ]
  },
  {
   "cell_type": "markdown",
   "metadata": {},
   "source": [
    "#### Doctor - The main graph agent \n",
    "- Engage in conversation with patient and elicit symptoms and form initial hypotheses"
   ]
  },
  {
   "cell_type": "code",
   "execution_count": 8,
   "metadata": {},
   "outputs": [],
   "source": [
    "doctor_prompt =  \"\"\"\n",
    "\n",
    "You are an AI doctor.Follow the following guidelines to diagnose patients:\n",
    "\n",
    "You must ask the user about their symptoms to understand their condition. \n",
    "Upon receiving the symptoms you would search the symptoms to identify \n",
    "plausible diagnoses for these symptoms. You must not guess symptoms and only\n",
    "search the symptoms explicitly provided by the patient.\n",
    "\n",
    "If there are multiple plausible diagnoses identified from the search, you'll seek further \n",
    "clarity from the patient about any other symptoms that might narrow down the search.\n",
    "\n",
    "Every time the user provides a symptom you add it to the list of symptoms you have and \n",
    "search for possible diagnoses. You repeat this process till you have an unambiguous and \n",
    "definite diagnosis.\n",
    "\n",
    "Once, you have a definite diagnosis, you call the specialist with the list of symptoms \n",
    "and diagnosis. The specialist will respond with the verdict that the diagnosis is correct \n",
    "or not. In case, it is correct, provide the user a summary of the diagnosis and the treatment \n",
    "suggested by the specialist. \n",
    "\n",
    "If the specialist informs that the diagnosis is incorrect, refer the patient for an in-person\n",
    "visit to the specialist.\n",
    " \n",
    "\n",
    "\"\"\""
   ]
  },
  {
   "cell_type": "code",
   "execution_count": 9,
   "metadata": {},
   "outputs": [],
   "source": [
    "def search_symptoms(search_query: str) -> str:\n",
    "    \n",
    "    \"\"\" Retrieve docs from web search \"\"\"\n",
    "    search = DuckDuckGoSearchResults(num_results=1)\n",
    "    results = search.invoke(search_query)\n",
    "    print(search_query)\n",
    "    return results"
   ]
  },
  {
   "cell_type": "code",
   "execution_count": 10,
   "metadata": {},
   "outputs": [],
   "source": [
    "tools = [search_symptoms, call_specialist]\n",
    "doctor = ChatOllama(model='llama3.2:3b', \n",
    "                 temperature=0,\n",
    "                 num_predict=1000)\n",
    "doctor_with_tools = doctor.bind_tools(tools)"
   ]
  },
  {
   "cell_type": "code",
   "execution_count": null,
   "metadata": {},
   "outputs": [],
   "source": [
    "sys_msg = SystemMessage(content=doctor_prompt)\n",
    "\n",
    "# Doctor Node\n",
    "def doctor(state: MessagesState):\n",
    "   return {\"messages\": [doctor_with_tools.invoke([sys_msg] + state[\"messages\"])]}\n"
   ]
  },
  {
   "cell_type": "code",
   "execution_count": null,
   "metadata": {},
   "outputs": [
    {
     "data": {
      "image/png": "[encoded data removed]",
      "text/plain": [
       "<IPython.core.display.Image object>"
      ]
     },
     "metadata": {},
     "output_type": "display_data"
    }
   ],
   "source": [
    "# Building the Graph\n",
    "builder = StateGraph(MessagesState)\n",
    "\n",
    "builder.add_node(\"doctor\", doctor)\n",
    "builder.add_node(\"tools\", ToolNode(tools))\n",
    "\n",
    "builder.add_edge(START, \"doctor\")\n",
    "builder.add_conditional_edges(\n",
    "    \"doctor\",\n",
    "    tools_condition,\n",
    ")\n",
    "builder.add_edge(\"tools\", \"doctor\")\n",
    "react_graph = builder.compile(checkpointer=memory)\n",
    "\n",
    "\n",
    "display(Image(react_graph.get_graph(xray=True).draw_mermaid_png()))"
   ]
  },
  {
   "cell_type": "code",
   "execution_count": 13,
   "metadata": {},
   "outputs": [
    {
     "name": "stdout",
     "output_type": "stream",
     "text": [
      "feeling unwell\n",
      "==================================\u001b[1m Ai Message \u001b[0m==================================\n",
      "\n",
      "I'm here to help you. You mentioned that you're not feeling well. Can you tell me more about your symptoms? For example, do you have any pain or discomfort in a specific area of your body, or are you experiencing fatigue, headaches, or difficulty breathing?\n",
      "\n",
      "Also, is this a sudden onset of symptoms or has it been building up over time? Any additional information you can provide will help me narrow down the possible causes and suggest the next steps.\n"
     ]
    }
   ],
   "source": [
    "config = {\"configurable\": {\"thread_id\": \"1\"}}\n",
    "messages = [HumanMessage(content=\"\"\"Hi, I am not feeling well\"\"\")]\n",
    "messages = react_graph.invoke({\"messages\": messages}, config)\n",
    "for m in messages['messages']:\n",
    "    continue\n",
    "m.pretty_print()"
   ]
  },
  {
   "cell_type": "code",
   "execution_count": null,
   "metadata": {},
   "outputs": [
    {
     "name": "stdout",
     "output_type": "stream",
     "text": [
      "low grade fever itching jaundice\n",
      "==================================\u001b[1m Ai Message \u001b[0m==================================\n",
      "\n",
      "I'm here to help you. You mentioned that you have a low-grade fever, itching sometimes, and possibly jaundice. These symptoms can be related to liver inflammation.\n",
      "\n",
      "Can you tell me more about the itching? Is it constant or does it come and go? And have you noticed any yellowing of your skin or eyes (jaundice) recently?\n",
      "\n",
      "Also, how long have you been experiencing these symptoms? Have they been building up over time or did they start suddenly?\n",
      "\n",
      "I want to make sure I understand your symptoms correctly so I can provide the best guidance.\n"
     ]
    }
   ],
   "source": [
    "config = {\"configurable\": {\"thread_id\": \"1\"}}\n",
    "messages = [HumanMessage(content=\"\"\"I think I have Low grade fever.\n",
    "I feel itching sometimes and I possibly have jaundice\"\"\")]\n",
    "messages = react_graph.invoke({\"messages\": messages}, config)\n",
    "for m in messages['messages']:\n",
    "    # m.pretty_print()\n",
    "    continue\n",
    "m.pretty_print()"
   ]
  },
  {
   "cell_type": "code",
   "execution_count": 15,
   "metadata": {},
   "outputs": [
    {
     "name": "stdout",
     "output_type": "stream",
     "text": [
      "liver inflammation symptoms\n",
      "==================================\u001b[1m Ai Message \u001b[0m==================================\n",
      "\n",
      "**Summary of Diagnosis and Treatment**\n",
      "\n",
      "You have been diagnosed with liver inflammation (hepatitis) based on your symptoms, including low-grade fever, itching, yellow eyes (jaundice), loss of appetite, and vomiting.\n",
      "\n",
      "**Treatment Recommendations:**\n",
      "\n",
      "* Antiviral medication to treat hepatitis viruses\n",
      "* Medications to reduce inflammation and alleviate symptoms\n",
      "* Lifestyle changes, such as avoiding alcohol and limiting exposure to toxins\n",
      "* Dietary modifications, such as increasing fiber intake and avoiding fatty foods\n",
      "\n",
      "**Next Steps:**\n",
      "\n",
      "* Schedule an appointment with a hepatologist or gastroenterologist for further evaluation and treatment\n",
      "* Follow-up appointments will be necessary to monitor liver function and adjust treatment plan as needed\n",
      "\n",
      "Please note that this is a summary of the diagnosis and treatment recommendations provided by the specialist. It's essential to follow up with a healthcare professional for personalized guidance and care.\n"
     ]
    }
   ],
   "source": [
    "config = {\"configurable\": {\"thread_id\": \"1\"}}\n",
    "messages = [HumanMessage(content=\"\"\"I have itching most of the time and my eyes have turned yellow.\n",
    "                         I am also facing a loss of appetite with vomiting.\"\"\")]\n",
    "messages = react_graph.invoke({\"messages\": messages}, config)\n",
    "for m in messages['messages']:\n",
    "    # m.pretty_print()\n",
    "    continue\n",
    "m.pretty_print()"
   ]
  },
  {
   "cell_type": "code",
   "execution_count": null,
   "metadata": {},
   "outputs": [],
   "source": []
  }
 ],
 "metadata": {
  "kernelspec": {
   "display_name": "Python 3",
   "language": "python",
   "name": "python3"
  },
  "language_info": {
   "codemirror_mode": {
    "name": "ipython",
    "version": 3
   },
   "file_extension": ".py",
   "mimetype": "text/x-python",
   "name": "python",
   "nbconvert_exporter": "python",
   "pygments_lexer": "ipython3",
   "version": "3.12.7"
  }
 },
 "nbformat": 4,
 "nbformat_minor": 2
}
